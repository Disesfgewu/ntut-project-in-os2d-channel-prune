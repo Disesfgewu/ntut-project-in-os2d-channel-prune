{
 "cells": [
  {
   "cell_type": "markdown",
   "metadata": {},
   "source": [
    "This is a demo illustrating an application of the OS2D method on one image.\n",
    "This demo assumes the OS2D API is running at port 80 of your machine, please follow instructions from: [Run OS2D as Service](./FASTAPI.md)."
   ]
  },
  {
   "cell_type": "code",
   "execution_count": null,
   "metadata": {},
   "outputs": [],
   "source": [
    "from PIL import Image, ImageDraw\n",
    "import base64\n",
    "import json\n",
    "import requests"
   ]
  },
  {
   "cell_type": "markdown",
   "metadata": {},
   "source": [
    "## Running Docker container"
   ]
  },
  {
   "cell_type": "code",
   "execution_count": null,
   "metadata": {},
   "outputs": [],
   "source": [
    "!docker run -d --rm \\\n",
    "    --name os2d \\\n",
    "    -p 80:80 \\\n",
    "    -v $(pwd):/workspace \\\n",
    "    os2d:latest \\\n",
    "    uvicorn app:app --port 80 --host 0.0.0.0"
   ]
  },
  {
   "cell_type": "markdown",
   "metadata": {},
   "source": [
    "## Load images"
   ]
  },
  {
   "cell_type": "code",
   "execution_count": null,
   "metadata": {},
   "outputs": [],
   "source": [
    "input_image_path = 'data/demo/input_image.jpg'\n",
    "first_query_image_path = 'data/demo/class_image_0.jpg'\n",
    "second_query_image_path = 'data/demo/class_image_1.jpg'"
   ]
  },
  {
   "cell_type": "code",
   "execution_count": null,
   "metadata": {},
   "outputs": [],
   "source": [
    "with open(input_image_path, 'rb') as i, open(first_query_image_path, 'rb') as fq, open(second_query_image_path, 'rb') as sq:\n",
    "    input_image = base64.b64encode(i.read()).decode('utf-8')\n",
    "    first_query_image = base64.b64encode(fq.read()).decode('utf-8')\n",
    "    second_query_image = base64.b64encode(sq.read()).decode('utf-8')"
   ]
  },
  {
   "cell_type": "markdown",
   "metadata": {},
   "source": [
    "## Build request body"
   ]
  },
  {
   "cell_type": "code",
   "execution_count": null,
   "metadata": {},
   "outputs": [],
   "source": [
    "body = json.dumps({\n",
    "    'image': {'content': input_image},\n",
    "    'query': [\n",
    "        {'content': first_query_image},\n",
    "        {'content': second_query_image}\n",
    "        ]\n",
    "})"
   ]
  },
  {
   "cell_type": "markdown",
   "metadata": {},
   "source": [
    "## Send request POST"
   ]
  },
  {
   "cell_type": "code",
   "execution_count": null,
   "metadata": {},
   "outputs": [],
   "source": [
    "# http://0.0.0.0:80 -> Localhost port 80\n",
    "res = requests.post(\"http://0.0.0.0:80/detect-all-instances\", data=body)"
   ]
  },
  {
   "cell_type": "code",
   "execution_count": null,
   "metadata": {},
   "outputs": [],
   "source": [
    "input_image = Image.open(input_image_path)\n",
    "im_w, im_h = input_image.size"
   ]
  },
  {
   "cell_type": "code",
   "execution_count": null,
   "metadata": {},
   "outputs": [],
   "source": [
    "boxes = [[(box[0] * im_w, box[1] * im_h), (box[2] * im_w, box[3] * im_h) ] for box in res.json()['bboxes']]"
   ]
  },
  {
   "cell_type": "code",
   "execution_count": null,
   "metadata": {},
   "outputs": [],
   "source": [
    "im = ImageDraw.Draw(input_image)\n",
    "for box in boxes:\n",
    "    im.rectangle(box, outline='yellow', width=3)\n",
    "input_image"
   ]
  }
 ],
 "metadata": {
  "kernelspec": {
   "display_name": "Python 3.8.13 ('general-conda')",
   "language": "python",
   "name": "python3"
  },
  "language_info": {
   "codemirror_mode": {
    "name": "ipython",
    "version": 3
   },
   "file_extension": ".py",
   "mimetype": "text/x-python",
   "name": "python",
   "nbconvert_exporter": "python",
   "pygments_lexer": "ipython3",
   "version": "3.8.13"
  },
  "orig_nbformat": 4,
  "vscode": {
   "interpreter": {
    "hash": "a6c412e415f27236cb9d9dc68868e41cb65d54679c06807ebc8d62a20f3611d4"
   }
  }
 },
 "nbformat": 4,
 "nbformat_minor": 2
}
